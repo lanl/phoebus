{
 "cells": [
  {
   "cell_type": "code",
   "execution_count": 1,
   "id": "e00edf86",
   "metadata": {},
   "outputs": [],
   "source": [
    "%matplotlib inline"
   ]
  },
  {
   "cell_type": "code",
   "execution_count": 2,
   "id": "db2257bd",
   "metadata": {},
   "outputs": [],
   "source": [
    "import numpy as np\n",
    "import scipy as sp\n",
    "from scipy import interpolate, integrate\n",
    "from matplotlib import pyplot as plt\n",
    "from matplotlib import rc\n",
    "import matplotlib as mpl\n",
    "rc('font',size=18)"
   ]
  },
  {
   "cell_type": "code",
   "execution_count": 514,
   "id": "6638910f",
   "metadata": {},
   "outputs": [],
   "source": [
    "NDIM = 3\n",
    "rin = 0\n",
    "rout = 5"
   ]
  },
  {
   "cell_type": "code",
   "execution_count": 528,
   "id": "e987c269",
   "metadata": {},
   "outputs": [],
   "source": [
    "def pseudo2(r, dr):\n",
    "    return np.maximum(dr*dr*np.ones_like(r), r**2)\n",
    "\n",
    "def get_y(r, sigma):\n",
    "    return np.exp(-(r/(2*sigma))**2)\n",
    "\n",
    "def make_X_global(bounds, nx):\n",
    "    xf_global = []\n",
    "    xc_global = []\n",
    "    dx = []\n",
    "    for i in range(NDIM):\n",
    "        # faces without ghosts\n",
    "        xf = np.linspace(bounds[i][0],bounds[i][1],nx[i]+1)\n",
    "        dx.append(xf[1] - xf[0])\n",
    "        # incorporate ghost zones\n",
    "        xf = np.linspace(bounds[i][0], \n",
    "                         bounds[i][1], \n",
    "                         nx[i] + 1)\n",
    "        xc = 0.5*(xf[1:] + xf[:-1])\n",
    "        xf_global.append(xf)\n",
    "        xc_global.append(xc)\n",
    "    Xf_global = np.meshgrid(*xf_global, indexing='ij')\n",
    "    Xc_global = np.meshgrid(*xc_global, indexing='ij')\n",
    "    \n",
    "    return Xf_global, Xc_global, dx\n",
    "\n",
    "def make_X_blocks(Xf_global, Xc_global, nx, nb):\n",
    "    nx_b = [(n//d) for n,d in zip(nx,nb)]\n",
    "    Xf_blks = np.empty((nb[0],nb[1],nb[2],NDIM,nx_b[0]+1,nx_b[1]+1,nx_b[2]+1))\n",
    "    Xc_blks = np.empty((nb[0],nb[1],nb[2],NDIM,nx_b[0],nx_b[1],nx_b[2]))\n",
    "    for ib in range(nb[0]):\n",
    "        for jb in range(nb[1]):\n",
    "            for kb in range(nb[2]):\n",
    "                for d in range(NDIM):\n",
    "                    Xf_blks[ib,jb,kb,d] = Xf_global[d][nx_b[0]*ib:nx_b[0]*(ib+1)+1,\n",
    "                                                       nx_b[1]*jb:nx_b[1]*(jb+1)+1,\n",
    "                                                       nx_b[2]*kb:nx_b[2]*(kb+1)+1]\n",
    "                    Xc_blks[ib,jb,kb,d] = Xc_global[d][nx_b[0]*ib:nx_b[0]*(ib+1),\n",
    "                                                       nx_b[1]*jb:nx_b[1]*(jb+1),\n",
    "                                                       nx_b[2]*kb:nx_b[2]*(kb+1)]\n",
    "    return Xf_blks, Xc_blks, nx_b\n",
    "\n",
    "def refine_block(Xf, Xc):\n",
    "    nb = (2, 2, 2)\n",
    "    nx = (nb[0]*Xc.shape[1], \n",
    "          nb[1]*Xc.shape[2], \n",
    "          nb[2]*Xc.shape[3])\n",
    "    nx_b = Xc.shape[1:]\n",
    "    bounds = [[Xf[0,0,0,0], Xf[0,-1,0,0]],\n",
    "              [Xf[1,0,0,0], Xf[1,0,-1,0]],\n",
    "              [Xf[2,0,0,0], Xf[2,0,0,-1]]]\n",
    "    Xf_global, Xc_global, nx = make_X_global(bounds,nx)\n",
    "    Xf_new = []\n",
    "    Xc_new = []\n",
    "    for ib in range(nb[0]):\n",
    "        for jb in range(nb[1]):\n",
    "            for kb in range(nb[2]):\n",
    "                Xf_loc = []\n",
    "                Xc_loc = []\n",
    "                for d in range(NDIM):\n",
    "                    Xf_loc.append(Xf_global[d][nx_b[0]*ib:nx_b[0]*(ib+1)+1,\n",
    "                                               nx_b[1]*jb:nx_b[1]*(jb+1)+1,\n",
    "                                               nx_b[2]*kb:nx_b[2]*(kb+1)+1])\n",
    "                    Xc_loc.append(Xc_global[d][nx_b[0]*ib:nx_b[0]*(ib+1),\n",
    "                                               nx_b[1]*jb:nx_b[1]*(jb+1),\n",
    "                                               nx_b[2]*kb:nx_b[2]*(kb+1)])\n",
    "                Xf_new.append(np.stack(Xf_loc))\n",
    "                Xc_new.append(np.stack(Xc_loc))\n",
    "    return Xf_new, Xc_new\n",
    "\n",
    "def refine_and_flatten_blocks(Xf_blks, Xc_blks, blocks_to_refine = None):\n",
    "    Xf_out = []\n",
    "    Xc_out = []\n",
    "    for ib in range(Xc_blks.shape[0]):\n",
    "        for jb in range(Xc_blks.shape[1]):\n",
    "            for kb in range(Xc_blks.shape[2]):\n",
    "                if blocks_to_refine is not None and [ib,jb,kb] in blocks_to_refine:\n",
    "                    Xf_new, Xc_new = refine_block(Xf_blks[ib,jb,kb],Xc_blks[ib,jb,kb])\n",
    "                    Xf_out += Xf_new\n",
    "                    Xc_out += Xc_new\n",
    "                else:\n",
    "                    Xf_out.append(Xf_blks[ib,jb,kb])\n",
    "                    Xc_out.append(Xc_blks[ib,jb,kb])\n",
    "    return np.stack(Xf_out), np.stack(Xc_out)\n",
    "\n",
    "def get_coords_sph(Xc_blks, cartesian = False):\n",
    "    if cartesian:\n",
    "        r_blks = np.sqrt(Xc_blks[:,0,:,:,:]**2 + Xc_blks[:,1,:,:,:]**2 + Xc_blks[:,2,:,:]**2)\n",
    "        r_blks_cyl = np.sqrt(Xc_blks[:,0,:,:,:]**2 + Xc_blks[:,1,:,:,:]**2)\n",
    "        th_blks = np.arctan2(Xc_blks[:,2,:,:,:], r_blks_cyl)\n",
    "        ph_blks = np.arctan2(Xc_blks[:,1,:,:,:], Xc_blks[:,0,:,:,:])\n",
    "    else:\n",
    "        r_blks = Xc_blks[:,0,:,:,:]\n",
    "        th_blks = Xc_blks[:,1,:,:,:]\n",
    "        ph_blks = Xc_blks[:,2,:,:,:] \n",
    "    return r_blks, th_blks, ph_blks\n",
    "\n",
    "def get_dx_blks(Xf_blks):\n",
    "    # cell widths defined at faces\n",
    "    dx1_blks = Xf_blks[:,0,1:,:,:] - Xf_blks[:,0,:-1,:,:]\n",
    "    dx2_blks = Xf_blks[:,1,:,1:,:] - Xf_blks[:,1,:,:-1,:]\n",
    "    dx3_blks = Xf_blks[:,2,:,:,1:] - Xf_blks[:,2,:,:,:-1]\n",
    "    # cell widths defined at cell centers\n",
    "    dx1_blks  = 0.25*(dx1_blks[:,:,1:,1:] + dx1_blks[:,:,:-1,:-1] \n",
    "                     + dx1_blks[:,:,1:,:-1] + dx1_blks[:,:,:-1,1:])\n",
    "    dx2_blks = 0.25*(dx2_blks[:,1:,:,1:] + dx2_blks[:,:-1,:,:-1]\n",
    "                     + dx2_blks[:,1:,:,:-1] + dx2_blks[:,:-1,:,1:])\n",
    "    dx3_blks = 0.25*(dx3_blks[:,1:,1:,:] + dx3_blks[:,:-1,:-1,:]\n",
    "                     + dx3_blks[:,1:,:-1,:] + dx3_blks[:,:-1,1:,:])\n",
    "    return dx1_blks, dx2_blks, dx3_blks\n",
    "\n",
    "def get_dx_sph(Xf_blks, r_blks, th_blks, ph_blks, cartesian = False):\n",
    "    dx1_blks, dx2_blks, dx3_blks = get_dx_blks(Xf_blks)\n",
    "    if cartesian:\n",
    "        r = r_blks\n",
    "        th = th_blks\n",
    "        ph = ph_blks\n",
    "        dx = dx1_blks\n",
    "        dy = dx2_blks\n",
    "        dz = dx3_blks\n",
    "        dr_blks  = dz*np.cos(th) + np.sin(th)*(dx*np.cos(ph) + dy*np.sin(ph))\n",
    "        dth_blks = r*(-dz*np.sin(th) + np.cos(th)*(dx*np.cos(ph) + dy*np.sin(ph)))\n",
    "        dph_blks = r*np.sin(th)*(dy*np.cos(ph) - dx*np.sin(ph))\n",
    "        return dr_blks, dth_blks, dph_blks\n",
    "    else:\n",
    "        return dx1_blks, dx2_blks, dx3_blks\n",
    "\n",
    "def spherically_average_naive(y_monopole, y_blks,\n",
    "                              Xf_blks, Xc_blks, grid1d, nx_b,\n",
    "                              cartesian = False,\n",
    "                              cell_fac = 3):\n",
    "    dr1d = grid1d[1] - grid1d[0]\n",
    "    \n",
    "    r_blks, th_blks, ph_blks = get_coords_sph(Xc_blks, cartesian)\n",
    "    dr_blks, dth_blks, dph_blks = get_dx_sph(Xf_blks, r_blks, th_blks, ph_blks, cartesian)\n",
    "    r_faces, th_faces, ph_faces = get_coords_sph(Xf_blks, cartesian)\n",
    "    \n",
    "    # r^2 sin(th) dth dph y\n",
    "    drmin = dr_blks.min()\n",
    "    y_integrand_blks = r_blks*r_blks*np.sin(th_blks)*dth_blks*dph_blks*y_blks\n",
    "    y_integrand_blks_alt = ((3*drmin)**2)*np.sin(th_blks)*dth_blks*dph_blks*y_blks\n",
    "    div_fac = 4*np.pi*pseudo2(grid1d,3*drmin)\n",
    "     \n",
    "    y_avgd = np.zeros_like(y_monopole)\n",
    "    numblocks = Xc_blks.shape[0]\n",
    "    for ib in range(numblocks):\n",
    "        face_inner = r_faces[ib].min()\n",
    "        face_outer = r_faces[ib].max()\n",
    "        for i in range(nx_b[0]):\n",
    "            for j in range(nx_b[1]):\n",
    "                for k in range(nx_b[2]):\n",
    "                    r0 = r_blks[ib,i,j,k]\n",
    "                    y0_base = y_integrand_blks[ib,i,j,k]\n",
    "                    y0_alt = y_integrand_blks_alt[ib,i,j,k]                       \n",
    "                    dr = dr_blks[ib,i,j,k]\n",
    "                    bl = r0 - dr\n",
    "                    br = r0 + dr\n",
    "                    il = np.where(np.logical_and(grid1d >= bl,grid1d >= face_inner))[0]\n",
    "                    #il = np.where(grid1d >= bl)[0]\n",
    "                    if len(il) > 0:\n",
    "                        il = il[0]\n",
    "                    else:\n",
    "                        il = 0\n",
    "                    ir = np.where(np.logical_or(grid1d > br, grid1d > face_outer))[0]\n",
    "                    #ir = np.where(grid1d > br)[0]\n",
    "                    if len(ir) > 0:\n",
    "                        ir = ir[0]\n",
    "                    else:\n",
    "                        ir = len(grid1d)\n",
    "                    for imono in range(il, ir):\n",
    "                        r = grid1d[imono]\n",
    "                        y0 = (y0_alt if np.abs(r) <= cell_fac*dr else y0_base)\n",
    "                        y_avgd[imono] += y0*max(0,(1 - np.abs(r - r0)/dr))\n",
    "                        #y_avgd[imono] += y0 if r0 <= dr/2 and r <= dr/2 else y0*max(0,(1 - np.abs(r - r0)/dr))\n",
    "                            \n",
    "    y_avgd /= div_fac\n",
    "    y_avgd[0] = y_avgd[1]\n",
    "    return y_avgd\n",
    "\n",
    "def spherically_average_faces(y_monopole, yf_blks, \n",
    "                              Xf_blks, Xc_blks,\n",
    "                              grid1d, nx_b, \n",
    "                              cartesian=False, cell_fac=3, eps=0.1):\n",
    "  \n",
    "    dr1d = grid1d[1] - grid1d[0]\n",
    "    \n",
    "    r_blks, th_blks, ph_blks = get_coords_sph(Xc_blks, cartesian)\n",
    "    r_faces, th_faces, ph_faces = get_coords_sph(Xf_blks, cartesian)\n",
    "    dr_blks, dth_blks, dph_blks = get_dx_sph(Xf_blks, r_blks, th_blks, ph_blks, cartesian)\n",
    "    \n",
    "    # r^2 sin(th) dth dph y\n",
    "    drmin = dr_blks.min()\n",
    "    y_integrand_faces = (r_faces**2)*np.sin(th_faces)*yf_blks\n",
    "    y_integrand_faces_alt = ((cell_fac*drmin)**2)*np.sin(th_faces)*yf_blks\n",
    "    div_fac = 4*np.pi*pseudo2(grid1d,cell_fac*drmin)\n",
    "    \n",
    "    y_avgd = np.zeros_like(y_monopole)\n",
    "    numblocks = Xf_blks.shape[0]\n",
    "    for ib in range(numblocks):\n",
    "        face_inner = r_faces[ib].min()\n",
    "        face_outer = r_faces[ib].max()\n",
    "        for i in range(nx_b[0]):\n",
    "            for j in range(nx_b[1]):\n",
    "                for k in range(nx_b[2]):\n",
    "                    r0 = r_faces[ib,i,j,k]\n",
    "                    y0_base = y_integrand_faces[ib,i,j,k]\n",
    "                    y0_alt = y_integrand_faces_alt[ib,i,j,k]\n",
    "                    dr,dth,dph = dr_blks[ib,i,j,k], dth_blks[ib,i,j,k], dph_blks[ib,i,j,k]\n",
    "                    bl, br = r0 - dr, r0 + dr\n",
    "                    il = np.where(np.logical_and(grid1d >= bl, grid1d >= face_inner))[0]\n",
    "                    il = il[0] if len(il) > 0 else 0\n",
    "                    ir = np.where(np.logical_or(grid1d > br + eps*dr, grid1d > face_outer + eps*dr))[0]\n",
    "                    ir = ir[0] if len(ir) > 0 else len(grid1d)\n",
    "                    for imono in range(il, ir):\n",
    "                        r = grid1d[imono]\n",
    "                        y0 = (y0_alt if np.abs(r) <= cell_fac*dr else y0_base)*dth*dph\n",
    "                        y_avgd[imono] += y0*max(0,(1 - np.abs(r - r0)/dr))\n",
    "    y_avgd /= div_fac\n",
    "    y_avgd[0] = y_avgd[1]\n",
    "    return y_avgd\n",
    "\n",
    "def in_bounds(a, r0, dr0):\n",
    "    return np.logical_and(a >= r0 - 0.5*dr0, a < r0 + 0.5*dr0)\n",
    "\n",
    "def get_vol_intersect(r1d, dr1d, r0, dr0):\n",
    "    vol_intersect = np.zeros_like(r1d)\n",
    "    if dr1d <= dr0:\n",
    "        left_in_bnds = in_bounds(r1d - 0.5*dr1d, r0, dr0)\n",
    "        right_in_bnds = in_bounds(r1d + 0.5*dr1d, r0, dr0)\n",
    "        intersection_exists = np.logical_or(left_in_bnds, right_in_bnds)\n",
    "        interior_mask = np.logical_and(left_in_bnds,right_in_bnds)\n",
    "        vol_intersect[interior_mask] = dr1d/dr0\n",
    "        left_mask = np.logical_and(right_in_bnds, np.logical_not(left_in_bnds))\n",
    "        vol_intersect += left_mask*(r1d + 0.5*dr1d - (r0 - 0.5*dr0))/dr0\n",
    "        right_mask = np.logical_and(left_in_bnds, np.logical_not(right_in_bnds))\n",
    "        vol_intersect += right_mask*(r0 + 0.5*dr0 - (r1d - 0.5*dr1d))/dr0\n",
    "    else:\n",
    "        raise ValueError(\"monopole grid must be finer than finest fluid grid. Drs = {}, {}\".format(dr1d, dr0))\n",
    "    return vol_intersect\n",
    "\n",
    "def integrate1d(ycells_avgd, centers1d):\n",
    "    dr = centers1d[1] - centers1d[0]\n",
    "    idr = (1./12.)*(dr**3) + dr*(centers1d**2)\n",
    "    return 4*np.pi*(np.abs(ycells_avgd)*idr).sum()\n",
    "\n",
    "def integrate3d(y_blks, Xf_blks, Xc_blks, cartesian=False):\n",
    "    if cartesian:\n",
    "        dx,dy,dz = get_dx_blks(Xf_blks)\n",
    "        return (y_blks*dx*dy*dz).sum()\n",
    "    else:\n",
    "        r_blks, th_blks, ph_blks = get_coords_sph(Xc_blks, cartesian)\n",
    "        dr_blks, dth_blks, dph_blks = get_dx_sph(Xf_blks, r_blks, th_blks, ph_blks, cartesian)\n",
    "        idr = (1./12.)*(dr_blks**3) + dr_blks*(r_blks**2)\n",
    "        #idr = (r_blks**2)*dr_blks\n",
    "        return (idr*np.sin(th_blks)*dth_blks*dph_blks*y_blks).sum()\n",
    "\n",
    "def move_mass(ycells_avgd, vcells_avgd, centers1d):\n",
    "    dr = centers1d[1] - centers1d[0]\n",
    "    v1d = 4*np.pi*((1/12.)*(dr**3) + dr*(centers1d**2))\n",
    "    for i in range(len(centers1d)-1):\n",
    "        dv = -(vcells_avgd[i] - v1d[i])\n",
    "        dm = (ycells_avgd[i]/vcells_avgd[i])*dv\n",
    "        vcells_avgd[i] -= dv\n",
    "        vcells_avgd[i+1] += dv\n",
    "        ycells_avgd[i] -= dm\n",
    "        ycells_avgd[i+1] += dm\n",
    "    return\n",
    "\n",
    "def spherically_average_mass(y_monopole, y_blks,\n",
    "                             Xf_blks, Xc_blks,\n",
    "                             faces1d, centers1d, nx_b,\n",
    "                             cartesian = False,\n",
    "                             do_move_mass = False):\n",
    "    dr1d = faces1d[1] - faces1d[0]\n",
    "    r_blks, th_blks, ph_blks = get_coords_sph(Xc_blks, cartesian)\n",
    "    \n",
    "    if cartesian:\n",
    "        dx_blks, dy_blks, dz_blks = get_dx_blks(Xf_blks)\n",
    "        dr_blks = np.sqrt(dx_blks**2 + dy_blks**2 + dz_blks**2)\n",
    "        v_blks = dx_blks*dy_blks*dz_blks\n",
    "        y_mass_blks = v_blks*y_blks\n",
    "    else:\n",
    "        dr_blks, dth_blks, dph_blks = get_dx_sph(Xf_blks, r_blks, th_blks, ph_blks, cartesian)\n",
    "        r_faces, th_faces, ph_faces = get_coords_sph(Xf_blks, cartesian)\n",
    "        # r^2 sin(th) dth dph y\n",
    "        idr = (1./12.)*(dr_blks**3) + dr_blks*(r_blks**2)\n",
    "        v_blks = np.sin(th_blks)*dth_blks*dph_blks*idr\n",
    "        y_mass_blks = v_blks*y_blks\n",
    "\n",
    "    ycells_avgd = np.zeros_like(centers1d)\n",
    "    vcells_avgd = np.zeros_like(centers1d)\n",
    "    y_avgd = np.empty_like(faces1d)\n",
    "    numblocks = Xf_blks.shape[0]\n",
    "    for ib in range(numblocks):\n",
    "        for i in range(nx_b[0]):\n",
    "            for j in range(nx_b[1]):\n",
    "                for k in range(nx_b[2]):\n",
    "                    rc = r_blks[ib,i,j,k]\n",
    "                    dr = dr_blks[ib,i,j,k]\n",
    "                    y0 = y_mass_blks[ib,i,j,k]\n",
    "                    v0 = v_blks[ib,i,j,k]\n",
    "                    vol_intersects = get_vol_intersect(centers1d, dr1d, rc, dr)\n",
    "                    ycells_avgd += vol_intersects*y0\n",
    "                    vcells_avgd += vol_intersects*v0\n",
    "\n",
    "    if do_move_mass:\n",
    "        move_mass(ycells_avgd, vcells_avgd, centers1d)\n",
    "    #ycells_avgd /= (1e-20 + 4*np.pi*((dr1d**3) + dr1d*(centers1d**2)))\n",
    "    ycells_avgd /= (vcells_avgd + 1e-20)\n",
    "    y_avgd[1:] = 0.5*(ycells_avgd[1:] + ycells_avgd[:-1])\n",
    "    y_avgd[0] = ycells_avgd[0]\n",
    "    return y_avgd, ycells_avgd\n",
    "\n",
    "# Container class\n",
    "class SphericalAverage:\n",
    "    def __init__(self, rout, n1d, nx, nb,\n",
    "                 blocks_to_refine = None,\n",
    "                 avg_type = 'mass',\n",
    "                 cartesian = False,\n",
    "                 sigma = 0.5, cell_fac = 3, eps = 0.1):\n",
    "        rin = 0\n",
    "        self.rin = rin\n",
    "        self.rout = rout\n",
    "        self.n1d = n1d\n",
    "        self.nx = nx\n",
    "        self.nb = nb\n",
    "        self.blocks_to_refine = blocks_to_refine\n",
    "        self.cartesian = cartesian\n",
    "        self.sigma = sigma\n",
    "        self.cell_fac = cell_fac\n",
    "        \n",
    "        # generate grids\n",
    "        print(\"Generating grids\")\n",
    "        self.grid1d = np.linspace(rin, rout, n1d)\n",
    "        self.dr1d = self.grid1d[1] - self.grid1d[0]\n",
    "        self.centers1d = self.grid1d + self.dr1d/2.\n",
    "        if cartesian:\n",
    "            self.bounds = [(-rout, rout), (-rout, rout), (-rout, rout)]\n",
    "        else:\n",
    "            self.bounds = [(rin,rout), (0, np.pi), (0, 2*np.pi)]\n",
    "        self.Xf_global, self.Xc_global, self.dx = make_X_global(self.bounds, nx)\n",
    "        Xf_blks, Xc_blks, self.nx_b = make_X_blocks(self.Xf_global, self.Xc_global, nx, nb)\n",
    "        self.Xf_blks, self.Xc_blks = refine_and_flatten_blocks(Xf_blks, Xc_blks, blocks_to_refine)\n",
    "        \n",
    "        # generate function to interpolate\n",
    "        print(\"Generating functions\")\n",
    "        self.y_monopole = get_y(self.grid1d, sigma)\n",
    "        \n",
    "        # put it on the 3d mesh\n",
    "        self.r_blks, _, _ = get_coords_sph(self.Xc_blks, cartesian)\n",
    "        self.rf_blks, _, _ = get_coords_sph(self.Xf_blks, cartesian)\n",
    "        self.y_blks = get_y(self.r_blks, sigma)\n",
    "        self.yf_blks = get_y(self.rf_blks, sigma)\n",
    "        \n",
    "        # average it back on to the 1d mesh\n",
    "        print(\"Interpolating\")\n",
    "        if avg_type == 'naive':\n",
    "            self.y_avgd = spherically_average_naive(self.y_monopole,self.y_blks,\n",
    "                                                    self.Xf_blks, self.Xc_blks,\n",
    "                                                    self.grid1d, self.nx_b,\n",
    "                                                    cartesian, cell_fac)\n",
    "        elif avg_type == 'faces':\n",
    "            self.y_avgd = spherically_average_faces(self.y_monopole, self.yf_blks,\n",
    "                                                    self.Xf_blks, self.Xc_blks,\n",
    "                                                    self.grid1d, self.nx_b,\n",
    "                                                    cartesian, cell_fac, eps = eps)\n",
    "        elif avg_type == 'mass':\n",
    "            self.y_avgd, self.ycells_avgd = spherically_average_mass(self.y_monopole, self.y_blks,\n",
    "                                                                     self.Xf_blks, self.Xc_blks,\n",
    "                                                                     self.grid1d, self.centers1d, self.nx_b,\n",
    "                                                                     cartesian)\n",
    "        else:\n",
    "            raise ValueError(\"Unknown average type\")\n",
    "        print(\"Done\")"
   ]
  },
  {
   "cell_type": "code",
   "execution_count": 538,
   "id": "1a33db39",
   "metadata": {},
   "outputs": [
    {
     "name": "stdout",
     "output_type": "stream",
     "text": [
      "Generating grids\n",
      "Generating functions\n",
      "Interpolating\n",
      "Done\n"
     ]
    }
   ],
   "source": [
    "avg_type = 'mass'\n",
    "do_cartesian = True\n",
    "sigma = 1\n",
    "\n",
    "if do_cartesian:\n",
    "    savg = SphericalAverage(5, 400, [32, 32, 32], [4, 4, 4],\n",
    "                            [[1,1,1],[1,1,2],[1,2,1],[2,1,1], [1,2,2],[2,1,2],[2,2,1],[2,2,2]],\n",
    "                            avg_type=avg_type, cartesian=do_cartesian, sigma=sigma)\n",
    "else:\n",
    "    savg = SphericalAverage(5, 400, [128, 16, 16], [2, 2, 2],\n",
    "                            [[0,0,0],[0,0,1],[0,1,0],[0,1,1]],\n",
    "                            avg_type=avg_type, cartesian=do_cartesian, sigma=sigma)"
   ]
  },
  {
   "cell_type": "code",
   "execution_count": 539,
   "id": "5294f0b8",
   "metadata": {},
   "outputs": [
    {
     "data": {
      "image/png": "[encoded data removed]",
      "text/plain": [
       "<Figure size 432x288 with 1 Axes>"
      ]
     },
     "metadata": {
      "needs_background": "light"
     },
     "output_type": "display_data"
    }
   ],
   "source": [
    "plt.plot(savg.grid1d,savg.y_avgd,'bo')\n",
    "plt.plot(savg.grid1d,savg.y_monopole,'k-')\n",
    "#plt.xlim(0,0.25)\n",
    "#plt.ylim(0.,0.2)\n",
    "plt.xlabel('radius')\n",
    "plt.ylabel('interpolated')\n",
    "plt.savefig('interpolation_test.png',bbox_inches='tight')"
   ]
  },
  {
   "cell_type": "code",
   "execution_count": 540,
   "id": "7b57f68e",
   "metadata": {},
   "outputs": [
    {
     "data": {
      "text/plain": [
       "[<matplotlib.lines.Line2D at 0x7f2e02edaed0>]"
      ]
     },
     "execution_count": 540,
     "metadata": {},
     "output_type": "execute_result"
    },
    {
     "data": {
      "image/png": "[encoded data removed]",
      "text/plain": [
       "<Figure size 432x288 with 1 Axes>"
      ]
     },
     "metadata": {
      "needs_background": "light"
     },
     "output_type": "display_data"
    }
   ],
   "source": [
    "plt.loglog(savg.grid1d,savg.grid1d*savg.grid1d*savg.y_avgd,'bo')\n",
    "plt.plot(savg.grid1d,savg.grid1d*savg.grid1d*savg.y_monopole,'k-')"
   ]
  },
  {
   "cell_type": "code",
   "execution_count": 541,
   "id": "6bd6bb0d",
   "metadata": {},
   "outputs": [
    {
     "name": "stdout",
     "output_type": "stream",
     "text": [
      "1.018672e-02\n"
     ]
    },
    {
     "data": {
      "image/png": "[encoded data removed]",
      "text/plain": [
       "<Figure size 432x288 with 1 Axes>"
      ]
     },
     "metadata": {
      "needs_background": "light"
     },
     "output_type": "display_data"
    }
   ],
   "source": [
    "delta_y = savg.y_avgd - savg.y_monopole\n",
    "err = np.minimum(np.abs(delta_y),np.abs(delta_y)/(savg.y_monopole + 1e-20))\n",
    "print('%e' % err.max())\n",
    "plt.loglog(savg.grid1d, err,label='in density')\n",
    "\n",
    "delta_y = savg.grid1d*savg.grid1d*(savg.y_avgd - savg.y_monopole)\n",
    "err = np.minimum(np.abs(delta_y),np.abs(delta_y)/(savg.grid1d*savg.grid1d*savg.y_monopole + 1e-20))\n",
    "plt.ylabel(r'error$/$factor$^2$')\n",
    "plt.loglog(savg.grid1d, err,label='in mass/shell')\n",
    "\n",
    "plt.xlabel('radius')\n",
    "plt.ylabel('error')\n",
    "plt.legend()\n",
    "plt.savefig('density_v_mass_in_shell.png',bbox_inches='tight')"
   ]
  },
  {
   "cell_type": "code",
   "execution_count": 542,
   "id": "d3cc0840",
   "metadata": {},
   "outputs": [
    {
     "name": "stdout",
     "output_type": "stream",
     "text": [
      "4.389932e+01 4.428589e+01 -8.729096e-03\n"
     ]
    }
   ],
   "source": [
    "mass_avgd = integrate.trapz(4*np.pi*savg.grid1d**2*savg.y_avgd,x=savg.grid1d)\n",
    "mass_orig = integrate.trapz(4*np.pi*savg.grid1d**2*savg.y_monopole,x=savg.grid1d)\n",
    "print(\"%e %e %e\" % (mass_avgd, mass_orig, (mass_avgd - mass_orig)/mass_orig))"
   ]
  },
  {
   "cell_type": "code",
   "execution_count": 543,
   "id": "c3a9b2e4",
   "metadata": {},
   "outputs": [
    {
     "name": "stdout",
     "output_type": "stream",
     "text": [
      "4.390675e+01 4.444234e+01 -1.205142e-02\n"
     ]
    }
   ],
   "source": [
    "mass_avgd = integrate1d(savg.ycells_avgd, savg.centers1d)\n",
    "mass_orig = integrate3d(savg.y_blks, savg.Xf_blks, savg.Xc_blks, cartesian=do_cartesian)\n",
    "print(\"%e %e %e\" % (mass_avgd, mass_orig, (mass_avgd - mass_orig)/mass_orig))"
   ]
  },
  {
   "cell_type": "code",
   "execution_count": 544,
   "id": "a0671133",
   "metadata": {},
   "outputs": [
    {
     "name": "stdout",
     "output_type": "stream",
     "text": [
      "Generating grids\n",
      "Generating functions\n",
      "Interpolating\n",
      "Done\n",
      "-0.010451757934097776\n",
      "Generating grids\n",
      "Generating functions\n",
      "Interpolating\n",
      "Done\n",
      "-0.002641312439825486\n",
      "Generating grids\n",
      "Generating functions\n",
      "Interpolating\n",
      "Done\n",
      "-0.0006652264402556759\n"
     ]
    },
    {
     "data": {
      "image/png": "[encoded data removed]",
      "text/plain": [
       "<Figure size 432x288 with 1 Axes>"
      ]
     },
     "metadata": {
      "needs_background": "light"
     },
     "output_type": "display_data"
    }
   ],
   "source": [
    "scale=True\n",
    "true_mass = True\n",
    "\n",
    "if do_cartesian:\n",
    "    n1d_base = 50\n",
    "    nblk_base = 32\n",
    "    refine = [[1,1,1],[1,1,2],[1,2,1],[2,1,1], [1,2,2],[2,1,2],[2,2,1],[2,2,2]]\n",
    "else:\n",
    "    n1d_base = 50\n",
    "    nblk_base = 16\n",
    "    refine = [[0,0,0],[0,1,0],[0,0,1],[0,1,1]]\n",
    "max_errs = []\n",
    "mass_errs = []\n",
    "resfacs = [1,2,4]\n",
    "for resfac in resfacs:\n",
    "    savg = SphericalAverage(5, n1d_base*resfac, \n",
    "                            [nblk_base*resfac,nblk_base*resfac,nblk_base*resfac], \n",
    "                            [2, 2, 2], \n",
    "                            refine,\n",
    "                            cartesian = do_cartesian,\n",
    "                            sigma = 1)\n",
    "    delta_y = savg.y_avgd - savg.y_monopole\n",
    "    err = np.minimum(np.abs(delta_y),np.abs(delta_y)/(savg.y_monopole + 1e-12))\n",
    "    max_errs.append(err.max())\n",
    "    if true_mass:\n",
    "        mass_avgd = integrate.trapz(4*np.pi*savg.grid1d**2*savg.y_avgd,x=savg.grid1d)\n",
    "        mass_orig = integrate.trapz(4*np.pi*savg.grid1d**2*savg.y_monopole,x=savg.grid1d)\n",
    "    else:\n",
    "        mass_avgd = integrate1d(savg.ycells_avgd, savg.centers1d)\n",
    "        mass_orig = integrate3d(savg.y_blks, savg.Xf_blks, savg.Xc_blks, cartesian=do_cartesian)\n",
    "    mass_errs.append((mass_avgd - mass_orig)/mass_orig)\n",
    "    print(mass_errs[-1])\n",
    "    if scale:\n",
    "        plt.loglog(savg.grid1d, (resfac**2)*err,label=f'factor={resfac}')\n",
    "    else:\n",
    "        plt.loglog(savg.grid1d, err,label=f'factor={resfac}')\n",
    "plt.legend()\n",
    "plt.xlabel(r'$r$')\n",
    "if scale:\n",
    "    plt.ylabel(r'error$/$factor$^2$')\n",
    "else:\n",
    "    plt.ylabel('error')\n",
    "#plt.ylim(1e-6,1e-1)\n",
    "\n",
    "plt.savefig('interpolation_error_gaussian_spherical_3d_multiblock.png',\n",
    "            bbox_inches='tight',\n",
    "            dpi=300)"
   ]
  },
  {
   "cell_type": "code",
   "execution_count": 523,
   "id": "9dbcd747",
   "metadata": {},
   "outputs": [
    {
     "data": {
      "text/plain": [
       "[<matplotlib.lines.Line2D at 0x7f2e03677910>]"
      ]
     },
     "execution_count": 523,
     "metadata": {},
     "output_type": "execute_result"
    },
    {
     "data": {
      "image/png": "[encoded data removed]",
      "text/plain": [
       "<Figure size 432x288 with 1 Axes>"
      ]
     },
     "metadata": {
      "needs_background": "light"
     },
     "output_type": "display_data"
    }
   ],
   "source": [
    "plt.semilogy(savg.grid1d,savg.y_avgd,'bo')\n",
    "plt.plot(savg.grid1d,savg.y_monopole,'k-')"
   ]
  },
  {
   "cell_type": "code",
   "execution_count": 524,
   "id": "6dde02ea",
   "metadata": {},
   "outputs": [
    {
     "data": {
      "image/png": "[encoded data removed]",
      "text/plain": [
       "<Figure size 432x288 with 1 Axes>"
      ]
     },
     "metadata": {
      "needs_background": "light"
     },
     "output_type": "display_data"
    }
   ],
   "source": [
    "plt.semilogy(resfacs,np.abs(mass_errs),'bo-')\n",
    "plt.xlabel('Resolution/base resolution')\n",
    "plt.ylabel('Error in total mass')\n",
    "plt.savefig('interpolation_mass_error_amr_spherical_3d_multiblock.png',bbox_inches='tight',dpi=300)"
   ]
  },
  {
   "cell_type": "code",
   "execution_count": 525,
   "id": "d079d4d7",
   "metadata": {},
   "outputs": [
    {
     "data": {
      "text/plain": [
       "[-0.004092674117999834, -0.000906496386168929, -0.00022447116841227567]"
      ]
     },
     "execution_count": 525,
     "metadata": {},
     "output_type": "execute_result"
    }
   ],
   "source": [
    "mass_errs"
   ]
  },
  {
   "cell_type": "code",
   "execution_count": null,
   "id": "08cdf319",
   "metadata": {},
   "outputs": [],
   "source": []
  },
  {
   "cell_type": "code",
   "execution_count": null,
   "id": "538c824e",
   "metadata": {},
   "outputs": [],
   "source": []
  }
 ],
 "metadata": {
  "kernelspec": {
   "display_name": "Python 3",
   "language": "python",
   "name": "python3"
  },
  "language_info": {
   "codemirror_mode": {
    "name": "ipython",
    "version": 3
   },
   "file_extension": ".py",
   "mimetype": "text/x-python",
   "name": "python",
   "nbconvert_exporter": "python",
   "pygments_lexer": "ipython3",
   "version": "3.7.10"
  }
 },
 "nbformat": 4,
 "nbformat_minor": 5
}
